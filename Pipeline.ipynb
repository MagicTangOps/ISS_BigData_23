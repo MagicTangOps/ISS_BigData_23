{
 "cells": [
  {
   "cell_type": "code",
   "execution_count": 1,
<<<<<<< HEAD
   "id": "58f4c5c6",
=======
   "id": "87b1f7ad-e3af-4534-ad89-2936894cbf37",
>>>>>>> 99e217ab0a00465da41b10609b62e4f993b75286
   "metadata": {
    "tags": []
   },
   "outputs": [
    {
     "data": {
      "text/plain": [
<<<<<<< HEAD
       "'recipe-recommendation-2024'"
=======
       "'brave-watch-414204'"
>>>>>>> 99e217ab0a00465da41b10609b62e4f993b75286
      ]
     },
     "execution_count": 1,
     "metadata": {},
     "output_type": "execute_result"
    }
   ],
   "source": [
    "project = !gcloud config get-value project\n",
    "PROJECT_ID = project[0]\n",
    "PROJECT_ID"
   ]
  },
  {
   "cell_type": "code",
   "execution_count": 2,
<<<<<<< HEAD
   "id": "2bac4cd5",
=======
   "id": "0e58ed5e-d787-4656-bc62-4b7741684fcb",
>>>>>>> 99e217ab0a00465da41b10609b62e4f993b75286
   "metadata": {},
   "outputs": [
    {
     "name": "stdout",
     "output_type": "stream",
     "text": [
      "Collecting scikit-surprise\n",
      "  Using cached scikit_surprise-1.1.3-cp310-cp310-linux_x86_64.whl\n",
      "Requirement already satisfied: joblib>=1.0.0 in /opt/conda/lib/python3.10/site-packages (from scikit-surprise) (1.3.2)\n",
      "Requirement already satisfied: numpy>=1.17.3 in /opt/conda/lib/python3.10/site-packages (from scikit-surprise) (1.25.2)\n",
      "Requirement already satisfied: scipy>=1.3.2 in /opt/conda/lib/python3.10/site-packages (from scikit-surprise) (1.11.4)\n",
      "Installing collected packages: scikit-surprise\n",
      "Successfully installed scikit-surprise-1.1.3\n"
     ]
    }
   ],
   "source": [
    "!pip install scikit-surprise"
   ]
  },
  {
   "cell_type": "code",
   "execution_count": 3,
<<<<<<< HEAD
   "id": "16cd0912",
=======
   "id": "b98c9af0-5243-41f7-a425-662a1b0c2f75",
>>>>>>> 99e217ab0a00465da41b10609b62e4f993b75286
   "metadata": {
    "tags": []
   },
   "outputs": [
    {
     "name": "stderr",
     "output_type": "stream",
     "text": [
      "/tmp/ipykernel_1/3085960609.py:3: DeprecationWarning: The module `kfp.v2` is deprecated and will be removed in a futureversion. Please import directly from the `kfp` namespace, instead of `kfp.v2`.\n",
      "  from kfp.v2 import dsl\n"
     ]
    }
   ],
   "source": [
    "import kfp\n",
    "\n",
    "from kfp.v2 import dsl\n",
    "from kfp.v2.dsl import pipeline\n",
    "from kfp.v2.dsl import component\n",
    "from kfp.v2.dsl import OutputPath\n",
    "from kfp.v2.dsl import InputPath\n",
    "\n",
    "\n",
    "from kfp.v2.dsl import Output\n",
    "from kfp.v2.dsl import Metrics\n",
    "\n",
    "from kfp.v2 import compiler\n",
    "\n",
    "from google.cloud import aiplatform\n",
    "from google.cloud.aiplatform import pipeline_jobs\n",
    "\n",
    "from kfp.v2.dsl import (Artifact,\n",
    "                        Dataset,\n",
    "                        Input,\n",
    "                        Model,\n",
    "                        Output,\n",
    "                        Metrics,\n",
    "                        ClassificationMetrics,\n",
    "                        component,\n",
    "                        Markdown)\n",
    "\n",
    "from google.cloud import aiplatform\n",
    "from google.cloud import bigquery\n",
    "from google.cloud.aiplatform import pipeline_jobs"
   ]
  },
  {
   "cell_type": "markdown",
   "id": "85f01ef0",
   "metadata": {
    "tags": []
   },
   "source": [
    "## Kubeflow Pipeline (KFP) Definition\n",
    "\n",
    "##### Kubeflow is an open-source platform designed to make it easy to deploy, manage, and scale machine learning models on Kubernetes.\n",
    "\n",
    "##### Component-based Architecture: Kubeflow is built using a modular architecture, allowing users to pick and choose components based on their requirements.\n",
    "\n",
    "##### [Click here to see how to construct a Kubeflow Pipeline:](https://www.youtube.com/watch?v=gtVHw5YCRhE&ab_channel=MLEngineer)"
   ]
  },
  {
   "cell_type": "markdown",
   "id": "15cf023c",
   "metadata": {
    "tags": []
   },
   "source": [
    "## Kubeflow Pyspark Component VS Big Query\n",
    "##### [Click here to see how to construct a Pyspark Servless component:](https://github.com/GoogleCloudPlatform/vertex-ai-samples/blob/main/notebooks/community/ml_ops/stage3/get_started_with_dataproc_serverless_pipeline_components.ipynb)\n",
    "\n",
    "##### Spark allow us to directly read csv from bucket but Big Query doesn't support his function\n",
    "##### Big Query is easier to config from the UI\n",
    "\n",
    "##### Spark has a series of Libs for scalability(SparkML ect...)\n",
    "##### Pandas and sk learn may not avoidable by using Big Query -> (\"Upload file to big query\", No similar thing like Spark ML)\n",
    "\n",
    "#### Utilize Big Query require to redesign the pipeline trigger flow \n",
    "##### With the current design(triiger by file upload) 1. upload file -> 2.write data to bigquery -> 3. excute training pipline \n",
    "##### The new way to triiger: when new data entery comes into Big Query Table \n",
    "##### [Click here to see how to trigger cloud function with Big Query:](https://medium.com/@sidspwc/trigger-event-processing-from-big-query-using-gcp-eventarc-and-cloud-functions-c1c420b3e0df)"
   ]
  },
  {
   "cell_type": "markdown",
   "id": "0fc293ab",
   "metadata": {
    "tags": []
   },
   "source": [
    "### Get Data Component"
   ]
  },
  {
   "cell_type": "code",
   "execution_count": 4,
<<<<<<< HEAD
   "id": "545334a3",
=======
   "id": "2f466764-1e64-48ca-a8d9-d0fbbb291d33",
>>>>>>> 99e217ab0a00465da41b10609b62e4f993b75286
   "metadata": {
    "tags": []
   },
   "outputs": [],
   "source": [
    "@component(\n",
    "    base_image=\"python:3.9\",\n",
    "    packages_to_install=[\"numpy\",\"pandas\",\"fsspec\",\"db-dtypes\", \"google-cloud-bigquery\"]\n",
    ")\n",
    "def get_data(\n",
    "    # project_id: Input[str],\n",
    "    dataset: Output[Dataset],\n",
    "):\n",
    "    from google.cloud import bigquery\n",
    "    \n",
    "    # print(\"Project ID >>>>>>\" + project_id)\n",
    "    \n",
    "    # Initialize BigQuery client\n",
    "    client = bigquery.Client(project='recipe-recommendation-2024')\n",
    "    \n",
    "    sql_query = \"\"\"\n",
    "    SELECT user_id, recipe_id, rating \n",
    "    FROM `recipe-recommendation-2024.RecipeQuery.interactions`\n",
    "    \"\"\"\n",
    "    \n",
    "    # Execute the query job\n",
    "    query_job = client.query(sql_query)\n",
    "\n",
    "    # Convert the query resutlt to dataframe\n",
    "    data = query_job.to_dataframe()\n",
    "    \n",
    "    # filter out target person\n",
    "    # filtered_df = data.groupby('user_id').filter(lambda x: len(x) > 20 and len(x) < 150)\n",
    "    \n",
    "    # write the model out to the trained_model\n",
    "    # with open(trained_model, \"wb\") as f:\n",
    "    #     pickle.dump(model_svm, f)\n",
    "\n",
    "    data.to_csv(dataset.path, header=True, index = False)\n",
    "    # filtered_df.to_csv(dataset.path, header=True, index = False)\n",
    "    # print(\"Dataset path >>>>>>\" + dataset.path)\n",
    "    "
   ]
  },
  {
   "cell_type": "markdown",
   "id": "1faa5712",
   "metadata": {},
   "source": [
    "### Feature Engineering Component"
   ]
  },
  {
   "cell_type": "raw",
   "id": "bbb6b24f",
   "metadata": {},
   "source": [
    "################################################################\n",
    "\n",
    "Our Feature Engineer Component Here\n",
    "\n",
    "################################################################"
   ]
  },
  {
   "cell_type": "markdown",
   "id": "770f9dc5",
   "metadata": {
    "tags": []
   },
   "source": [
    "### Training Component"
   ]
  },
  {
   "cell_type": "code",
   "execution_count": 5,
<<<<<<< HEAD
   "id": "3209c800",
=======
   "id": "10643d67-1740-4a58-a16c-e6a09f9653c0",
>>>>>>> 99e217ab0a00465da41b10609b62e4f993b75286
   "metadata": {
    "tags": []
   },
   "outputs": [],
   "source": [
    "@component(\n",
    "    base_image=\"python:3.9\", \n",
    "    packages_to_install=[\"numpy\",\"pandas\",\"scikit-surprise\",\"fsspec\",\"gcsfs\",\"google-cloud-storage\"]\n",
    ")\n",
    "def training_model(\n",
    "    dataset: Input[Dataset],\n",
    "    training_status: Output[bool]\n",
    "):\n",
    "    import pickle\n",
    "    import pandas as pd\n",
    "    from google.cloud import storage\n",
    "\n",
    "    import surprise\n",
    "    # from surprise import SVD\n",
    "    from surprise import KNNBasic\n",
    "    from surprise import KNNWithMeans\n",
    "    from surprise import Dataset\n",
    "    from surprise import accuracy\n",
    "    from surprise import Reader\n",
    "    from surprise.model_selection import train_test_split\n",
    "    from surprise.model_selection import cross_validate\n",
    "\n",
    "    \n",
    "    print(\"Dataset path >>>>>>\" + dataset.path)\n",
    "    ratings_df = pd.read_csv(dataset.path)\n",
    "    raw_nr = len(ratings_df.recipe_id.unique())\n",
    "    user_recipe_frequency = ratings_df.groupby('user_id')['recipe_id'].nunique()\n",
    "    user_recipe_frequency = user_recipe_frequency.sort_values(ascending=False)\n",
    "    \n",
    "    minimum_percent = 0.0005 #change this value to suit preference\n",
    "    minimum_threshold = minimum_percent*raw_nr\n",
    "\n",
    "    selected_user_ids = user_recipe_frequency[user_recipe_frequency >= minimum_threshold].index.tolist()\n",
    "    ratings_df = ratings_df[ratings_df['user_id'].isin(selected_user_ids)]\n",
    "\n",
    "    \n",
    "    # rating_df_cnt = ratings_df.groupby(by='user_id')['recipe_id'].agg('count').reset_index()\n",
    "    # rating_df_cnt.columns = ['user_id','cnt']\n",
    "    # rating_df_cnt = rating_df_cnt.loc[rating_df_cnt['cnt'] > 115]\n",
    "    # user_ids_CF = set(rating_df_cnt['user_id'])\n",
    "    # ratings_df = ratings_df.loc[ratings_df['user_id'].isin(user_ids_CF)]\n",
    "    \n",
    "    reader = Reader(rating_scale=(0,6))\n",
    "    data = Dataset.load_from_df(ratings_df, reader)  # assumes dataframe contains: user, item, ratings (in this order)\n",
    "    \n",
    "    # training\n",
    "    # trainset, testset  = train_test_split(data, test_size=0.2)  # select 10% of rating events\n",
    "    trainset = data.build_full_trainset()\n",
    "    # algo = SVD(n_factors = 50)\n",
    "    algo = KNNBasic(k=5,sim_options={'name': 'MSD', 'user_based': True }) # User-based CF\n",
    "    # algo = KNNBasic(k=40, sim_options={'name': 'cosine', 'user_based': True}) # ZeroDivisionError: float division WHY !!! \n",
    "    # algo = KNNBasic(k=40, sim_options={'name': 'pearson', 'user_based': True})\n",
    "    # algo = KNNBasic(k=40, sim_options={'name': 'pearson_baseline', 'user_based': True})\n",
    "    algo.fit(trainset)\n",
    "    \n",
    "    # Dump model pickle file\n",
    "    model_bytes = pickle.dumps(algo)\n",
    "    \n",
    "    # Upload the model pickle file to GCS\n",
    "    bucket_name = \"recipe-recommendation-2024\"\n",
    "    pickle_file_name = \"knn_model.pkl\"\n",
    "    folder_path = \"model_rcs\"\n",
    "    destination_blob_name = f'{folder_path}/{pickle_file_name}'\n",
    "    \n",
    "    storage_client = storage.Client()\n",
    "    bucket = storage_client.bucket(bucket_name)\n",
    "    blob = bucket.blob(destination_blob_name)\n",
    "    blob.upload_from_string(model_bytes)\n",
    "    training_status = True"
   ]
  },
  {
   "cell_type": "markdown",
   "id": "647c4ba7",
   "metadata": {
    "tags": []
   },
   "source": [
    "### Construct Pipeline"
   ]
  },
  {
   "cell_type": "code",
   "execution_count": 6,
<<<<<<< HEAD
   "id": "983d4bf8",
=======
   "id": "02b016a6-d589-47b6-87ba-4a7f4eba4c91",
>>>>>>> 99e217ab0a00465da41b10609b62e4f993b75286
   "metadata": {
    "tags": []
   },
   "outputs": [],
   "source": [
    "@dsl.pipeline(name=\"training_pipeline\",\n",
    "          pipeline_root=\"gs://recipe-recommendation-2024\" + \"training_pipeline\")\n",
    "# def basic_pipeline(project_id: str):\n",
    "#     data_processing = get_data(project_id = project_id)\n",
    "def basic_pipeline():\n",
    "    data_processing = get_data()\n",
    "    training = training_model(dataset = data_processing.outputs['dataset'])"
   ]
  },
  {
   "cell_type": "code",
   "execution_count": 7,
<<<<<<< HEAD
   "id": "bf966ffc",
=======
   "id": "2bba53aa-7eb1-48dd-a880-b2abdf0049fc",
>>>>>>> 99e217ab0a00465da41b10609b62e4f993b75286
   "metadata": {
    "tags": []
   },
   "outputs": [],
   "source": [
    "compiler.Compiler().compile(\n",
    "    pipeline_func=basic_pipeline, \n",
    "    package_path=\"training_pipeline.yaml\")"
   ]
  },
  {
   "cell_type": "code",
   "execution_count": 8,
<<<<<<< HEAD
   "id": "68e0a92a-72d3-4176-8500-fd091e0165af",
   "metadata": {
    "tags": []
   },
   "outputs": [
    {
     "name": "stdout",
     "output_type": "stream",
     "text": [
      "File training_pipeline.yaml uploaded to Pipeline_yaml/training_pipeline.yaml.\n"
     ]
    }
   ],
   "source": [
    "from google.cloud import storage\n",
    "\n",
    "def upload_to_gcs(bucket_name, source_file_name, destination_blob_name):\n",
    "    \"\"\"上传文件到GCS\"\"\"\n",
    "    storage_client = storage.Client()\n",
    "    bucket = storage_client.bucket(bucket_name)\n",
    "    blob = bucket.blob(destination_blob_name)\n",
    "\n",
    "    blob.upload_from_filename(source_file_name)\n",
    "\n",
    "    print(f\"File {source_file_name} uploaded to {destination_blob_name}.\")\n",
    "\n",
    "# 调用函数上传文件\n",
    "upload_to_gcs(\n",
    "    bucket_name=\"recipe-recommendation-2024\",\n",
    "    source_file_name=\"training_pipeline.yaml\",\n",
    "    destination_blob_name=\"Pipeline_yaml/training_pipeline.yaml\"\n",
    ")\n"
   ]
  },
  {
   "cell_type": "code",
   "execution_count": 9,
   "id": "abf1bcad",
=======
   "id": "1dc3eb03-97f4-43e5-8404-abe6951722d8",
>>>>>>> 99e217ab0a00465da41b10609b62e4f993b75286
   "metadata": {
    "tags": []
   },
   "outputs": [],
   "source": [
    "job = pipeline_jobs.PipelineJob(\n",
    "    display_name=\"training_pipeline\",\n",
    "    template_path=\"gs://recipe-recommendation-2024/Pipeline_yaml/training_pipeline.yaml\",\n",
    "    enable_caching=False,\n",
    "    location=\"asia-southeast1\",\n",
    "    # parameter_values={\n",
    "    #     'project_id': PROJECT_ID\n",
    "    # }\n",
    ")"
   ]
  },
  {
   "cell_type": "code",
<<<<<<< HEAD
   "execution_count": 10,
   "id": "18cd0de4",
=======
   "execution_count": 9,
   "id": "1bbf8c3f-f6a0-4c72-b070-d69fdfed8d39",
>>>>>>> 99e217ab0a00465da41b10609b62e4f993b75286
   "metadata": {
    "tags": []
   },
   "outputs": [
    {
     "name": "stdout",
     "output_type": "stream",
     "text": [
      "Creating PipelineJob\n",
<<<<<<< HEAD
      "PipelineJob created. Resource name: projects/896763600113/locations/asia-southeast1/pipelineJobs/training-pipeline-20240416071932\n",
      "To use this PipelineJob in another session:\n",
      "pipeline_job = aiplatform.PipelineJob.get('projects/896763600113/locations/asia-southeast1/pipelineJobs/training-pipeline-20240416071932')\n",
      "View Pipeline Job:\n",
      "https://console.cloud.google.com/vertex-ai/locations/asia-southeast1/pipelines/runs/training-pipeline-20240416071932?project=896763600113\n",
      "PipelineJob projects/896763600113/locations/asia-southeast1/pipelineJobs/training-pipeline-20240416071932 current state:\n",
      "PipelineState.PIPELINE_STATE_RUNNING\n",
      "PipelineJob projects/896763600113/locations/asia-southeast1/pipelineJobs/training-pipeline-20240416071932 current state:\n",
      "PipelineState.PIPELINE_STATE_RUNNING\n",
      "PipelineJob projects/896763600113/locations/asia-southeast1/pipelineJobs/training-pipeline-20240416071932 current state:\n",
      "PipelineState.PIPELINE_STATE_RUNNING\n",
      "PipelineJob projects/896763600113/locations/asia-southeast1/pipelineJobs/training-pipeline-20240416071932 current state:\n",
      "PipelineState.PIPELINE_STATE_RUNNING\n",
      "PipelineJob projects/896763600113/locations/asia-southeast1/pipelineJobs/training-pipeline-20240416071932 current state:\n",
      "PipelineState.PIPELINE_STATE_RUNNING\n",
      "PipelineJob projects/896763600113/locations/asia-southeast1/pipelineJobs/training-pipeline-20240416071932 current state:\n",
      "PipelineState.PIPELINE_STATE_RUNNING\n",
      "PipelineJob run completed. Resource name: projects/896763600113/locations/asia-southeast1/pipelineJobs/training-pipeline-20240416071932\n"
=======
      "PipelineJob created. Resource name: projects/564706877122/locations/asia-southeast1/pipelineJobs/training-pipeline-20240414083618\n",
      "To use this PipelineJob in another session:\n",
      "pipeline_job = aiplatform.PipelineJob.get('projects/564706877122/locations/asia-southeast1/pipelineJobs/training-pipeline-20240414083618')\n",
      "View Pipeline Job:\n",
      "https://console.cloud.google.com/vertex-ai/locations/asia-southeast1/pipelines/runs/training-pipeline-20240414083618?project=564706877122\n",
      "PipelineJob projects/564706877122/locations/asia-southeast1/pipelineJobs/training-pipeline-20240414083618 current state:\n",
      "PipelineState.PIPELINE_STATE_RUNNING\n",
      "PipelineJob projects/564706877122/locations/asia-southeast1/pipelineJobs/training-pipeline-20240414083618 current state:\n",
      "PipelineState.PIPELINE_STATE_RUNNING\n",
      "PipelineJob projects/564706877122/locations/asia-southeast1/pipelineJobs/training-pipeline-20240414083618 current state:\n",
      "PipelineState.PIPELINE_STATE_RUNNING\n",
      "PipelineJob projects/564706877122/locations/asia-southeast1/pipelineJobs/training-pipeline-20240414083618 current state:\n",
      "PipelineState.PIPELINE_STATE_RUNNING\n",
      "PipelineJob projects/564706877122/locations/asia-southeast1/pipelineJobs/training-pipeline-20240414083618 current state:\n",
      "PipelineState.PIPELINE_STATE_RUNNING\n",
      "PipelineJob run completed. Resource name: projects/564706877122/locations/asia-southeast1/pipelineJobs/training-pipeline-20240414083618\n"
>>>>>>> 99e217ab0a00465da41b10609b62e4f993b75286
     ]
    }
   ],
   "source": [
    "job.run(sync=False)"
   ]
  },
  {
   "cell_type": "markdown",
   "id": "884965b7",
   "metadata": {},
   "source": [
    "### Save pipeline"
   ]
  },
  {
   "cell_type": "code",
<<<<<<< HEAD
   "execution_count": 11,
   "id": "c9d5b2da",
=======
   "execution_count": 10,
   "id": "b35c65d9-52bd-459d-b0a1-872bc5102614",
>>>>>>> 99e217ab0a00465da41b10609b62e4f993b75286
   "metadata": {
    "tags": []
   },
   "outputs": [],
   "source": [
    "from google.cloud import storage\n",
    "\n",
    "# Upload the model pickle file to GCS\n",
    "bucket_name = \"recipe-recommendation-2024\"\n",
    "file_name = \"training_pipeline.yaml\"\n",
    "folder_path = \"Pipeline_ymal\"\n",
    "destination_blob_name = f'{folder_path}/{file_name}'\n",
    "\n",
    "storage_client = storage.Client()\n",
    "bucket = storage_client.bucket(bucket_name)\n",
    "blob = bucket.blob(destination_blob_name)\n",
    "blob.upload_from_filename('training_pipeline.yaml')"
   ]
  },
  {
   "cell_type": "code",
   "execution_count": null,
   "id": "097e6dd5",
   "metadata": {},
   "outputs": [],
   "source": []
  }
 ],
 "metadata": {
  "environment": {
   "kernel": "conda-root-py",
   "name": "workbench-notebooks.m119",
   "type": "gcloud",
   "uri": "us-docker.pkg.dev/deeplearning-platform-release/gcr.io/workbench-notebooks:m119"
  },
  "kernelspec": {
   "display_name": "Python (Local)",
   "language": "python",
   "name": "base"
  },
  "language_info": {
   "codemirror_mode": {
    "name": "ipython",
    "version": 3
   },
   "file_extension": ".py",
   "mimetype": "text/x-python",
   "name": "python",
   "nbconvert_exporter": "python",
   "pygments_lexer": "ipython3",
   "version": "3.10.13"
  }
 },
 "nbformat": 4,
 "nbformat_minor": 5
}

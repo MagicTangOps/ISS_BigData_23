{
 "cells": [
  {
   "cell_type": "code",
   "execution_count": 1,
   "id": "3158f593-bb31-4959-8ce6-4a306c65e3dd",
   "metadata": {
    "tags": []
   },
   "outputs": [],
   "source": [
    "from google.cloud import bigquery"
   ]
  },
  {
   "cell_type": "code",
   "execution_count": 2,
   "id": "7cf972e1-c235-4962-bb13-e4102b639096",
   "metadata": {},
   "outputs": [],
   "source": [
    "# Initialize BigQuery client\n",
    "client = bigquery.Client()"
   ]
  },
  {
   "cell_type": "code",
   "execution_count": 3,
   "id": "46a373f8-004b-438a-909f-f94d4288b0e8",
   "metadata": {
    "tags": []
   },
   "outputs": [],
   "source": [
    "sql_query = \"\"\"\n",
    "SELECT user_id, recipe_id, rating \n",
    "FROM `brave-watch-414204.RecipeQuery.try` \n",
    "WHERE rating = 5\n",
    "LIMIT 1000\n",
    "\"\"\""
   ]
  },
  {
   "cell_type": "code",
   "execution_count": 4,
   "id": "61c1e50c-a0ed-4029-9040-809360f69c93",
   "metadata": {},
   "outputs": [
    {
     "name": "stdout",
     "output_type": "stream",
     "text": [
      "Query results have been saved to 'brave-watch-414204.RecipeQuery.SampleTable'.\n"
     ]
    }
   ],
   "source": [
    "# df = client.query(sql_query).to_dataframe()\n",
    "\n",
    "# Set the destination table for the query result\n",
    "destination_table_ref = client.dataset('RecipeQuery').table('SampleTable')\n",
    "\n",
    "# Configure the query job\n",
    "job_config = bigquery.QueryJobConfig(destination=destination_table_ref)\n",
    "\n",
    "# Execute the query job\n",
    "query_job = client.query(sql_query, job_config=job_config)\n",
    "\n",
    "# Wait for the query job to complete\n",
    "query_job.result()\n",
    "\n",
    "print(\"Query results have been saved to 'brave-watch-414204.RecipeQuery.SampleTable'.\")"
   ]
  },
  {
   "cell_type": "code",
   "execution_count": 5,
   "id": "26b059bc-73a3-4711-a6e9-4544f00f2d45",
   "metadata": {
    "tags": []
   },
   "outputs": [],
   "source": [
    "#print(df.head())\n",
    "#type(df)"
   ]
  }
 ],
 "metadata": {
  "kernelspec": {
   "display_name": "Python (Local)",
   "language": "python",
   "name": "base"
  },
  "language_info": {
   "codemirror_mode": {
    "name": "ipython",
    "version": 3
   },
   "file_extension": ".py",
   "mimetype": "text/x-python",
   "name": "python",
   "nbconvert_exporter": "python",
   "pygments_lexer": "ipython3",
   "version": "3.10.13"
  }
 },
 "nbformat": 4,
 "nbformat_minor": 5
}

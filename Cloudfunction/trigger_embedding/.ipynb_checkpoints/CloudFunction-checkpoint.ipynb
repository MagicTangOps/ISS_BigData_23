{
 "cells": [
  {
   "cell_type": "markdown",
   "id": "3f8b377a-ca57-4709-98bf-ed1214692a4e",
   "metadata": {},
   "source": [
    "## Cloud Function Script\n",
    "\n",
    "##### Note:\n",
    "##### This cloud function is to embed the recipe name and description\n",
    "\n",
    "[What is cloud function](https://cloud.google.com/vertex-ai/docs/pipelines/trigger-pubsub)"
   ]
  },
  {
   "cell_type": "markdown",
   "id": "7561fe47-741d-4292-a2c2-58066928f4d6",
   "metadata": {
    "tags": []
   },
   "source": [
    "### Cloud Function"
   ]
  },
  {
   "cell_type": "code",
   "execution_count": null,
   "id": "b6c5d3f3-bff8-4c9d-9dbb-037654275904",
   "metadata": {},
   "outputs": [],
   "source": [
    "import functions_framework\n",
    "\n",
    "from google.cloud import bigquery\n",
    "\n",
    "def trigger_sql_and_save():\n",
    "    client = bigquery.Client()\n",
    "    query = \"\"\"\n",
    "    WITH tmp AS (\n",
    "      SELECT (description || name) as content, id as title\n",
    "      FROM `brave-watch-414204.RecipeQuery.recipes`\n",
    "      WHERE _PARTITIONTIME = (\n",
    "        SELECT MAX(_PARTITIONTIME)\n",
    "        FROM `brave-watch-414204.RecipeQuery.recipes`\n",
    "      )\n",
    "    )\n",
    "    SELECT *\n",
    "    FROM ML.GENERATE_EMBEDDING(\n",
    "      MODEL `RecipeQuery.gecko_model`,\n",
    "      (SELECT content as content, title as title FROM `tmp`),\n",
    "      STRUCT(TRUE AS flatten_json_output)\n",
    "    )\n",
    "    \"\"\"\n",
    "\n",
    "    # Set the destination table and overwrite option\n",
    "    job_config = bigquery.QueryJobConfig(\n",
    "        destination=\"brave-watch-414204.RecipeQuery.embedding_result\",\n",
    "        write_disposition=\"WRITE_TRUNCATE\"  # Overwrites the table\n",
    "    )\n",
    "\n",
    "    # Start the query, passing in the extra configuration.\n",
    "    query_job = client.query(query, job_config=job_config)\n",
    "    query_job.result()  # Wait for the job to complete.\n",
    "\n",
    "    return 'Query executed and table overwritten successfully.'\n",
    "\n",
    "\n",
    "\n",
    "# CloudEvent function to be triggered by an Eventarc Cloud Audit Logging trigger\n",
    "# Note: this is NOT designed for second-party (Cloud Audit Logs -> Pub/Sub) triggers!\n",
    "@functions_framework.cloud_event\n",
    "def hello_auditlog(cloudevent):\n",
    "    # Print out the CloudEvent's (required) `type` property\n",
    "    # See https://github.com/cloudevents/spec/blob/v1.0.1/spec.md#type\n",
    "    print(f\"Event type: {cloudevent['type']}\")\n",
    "\n",
    "    # Print out the CloudEvent's (optional) `subject` property\n",
    "    # See https://github.com/cloudevents/spec/blob/v1.0.1/spec.md#subject\n",
    "    if 'subject' in cloudevent:\n",
    "        # CloudEvent objects don't support `get` operations.\n",
    "        # Use the `in` operator to verify `subject` is present.\n",
    "        print(f\"Subject: {cloudevent['subject']}\")\n",
    "\n",
    "    # Print out details from the `protoPayload`\n",
    "    # This field encapsulates a Cloud Audit Logging entry\n",
    "    # See https://cloud.google.com/logging/docs/audit#audit_log_entry_structure\n",
    "\n",
    "    payload = cloudevent.data.get(\"protoPayload\")\n",
    "    if payload:\n",
    "        print(f\"API method: {payload.get('methodName')}\")\n",
    "        print(f\"Resource name: {payload.get('resourceName')}\")\n",
    "        print(f\"Principal: {payload.get('authenticationInfo', dict()).get('principalEmail')}\")\n",
    "\n",
    "    print(\"Hello >>>>>>>>>>>>>>>>>>>>>>>>>>>>\")\n",
    "    result=trigger_sql_and_save()\n",
    "    print(\"Function Finish >>>>>>>>>>>>>>>>>>>>>>>>>>>>\")"
   ]
  },
  {
   "cell_type": "markdown",
   "id": "316945e4-a213-4142-8c7b-773d9ed3fa08",
   "metadata": {
    "tags": []
   },
   "source": [
    "## requirements.txt"
   ]
  },
  {
   "cell_type": "raw",
   "id": "1596fdf3-3470-4723-83d1-08b696f2c49b",
   "metadata": {},
   "source": [
    "functions-framework==3.*\n",
    "google-cloud-bigquery==3.11.0"
   ]
  },
  {
   "cell_type": "markdown",
   "id": "77ccc976-cbdc-4592-898d-16952aa7c853",
   "metadata": {},
   "source": [
    "### Add schema.yaml file into your cloud funtion folder"
   ]
  }
 ],
 "metadata": {
  "kernelspec": {
   "display_name": "Python (Local)",
   "language": "python",
   "name": "base"
  },
  "language_info": {
   "codemirror_mode": {
    "name": "ipython",
    "version": 3
   },
   "file_extension": ".py",
   "mimetype": "text/x-python",
   "name": "python",
   "nbconvert_exporter": "python",
   "pygments_lexer": "ipython3",
   "version": "3.10.13"
  }
 },
 "nbformat": 4,
 "nbformat_minor": 5
}

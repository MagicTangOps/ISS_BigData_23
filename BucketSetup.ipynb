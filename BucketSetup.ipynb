{
 "cells": [
  {
   "cell_type": "code",
   "execution_count": 1,
   "id": "85a87d86-e775-4c3b-922e-2dc6946375f5",
   "metadata": {
    "tags": []
   },
   "outputs": [
    {
     "data": {
      "text/plain": [
       "'brave-watch-414204'"
      ]
     },
     "execution_count": 1,
     "metadata": {},
     "output_type": "execute_result"
    }
   ],
   "source": [
    "project = !gcloud config get-value project\n",
    "PROJECT_ID = project[0]\n",
    "PROJECT_ID"
   ]
  },
  {
   "cell_type": "code",
   "execution_count": 2,
   "id": "ba43ea52-6cd0-4ca7-af5d-20fcc3395853",
   "metadata": {
    "tags": []
   },
   "outputs": [],
   "source": [
    "from google.cloud import storage"
   ]
  },
  {
   "cell_type": "code",
   "execution_count": 3,
   "id": "7b612401-b047-4e60-93b6-a141a1b69b24",
   "metadata": {
    "tags": []
   },
   "outputs": [],
   "source": [
    "# Initialize GCS\n",
    "gcs = storage.Client(project = PROJECT_ID)"
   ]
  },
  {
   "cell_type": "code",
   "execution_count": 4,
   "id": "8bb4cfe9-69f8-4007-8687-9e3752bc1a73",
   "metadata": {
    "tags": []
   },
   "outputs": [],
   "source": [
    "#Define the Region \n",
    "REGION = 'asia-southeast1'\n",
    "\n",
    "#################1st#####################################\n",
    "# Create initial bucket by using PROJECTID \n",
    "BUCKET = PROJECT_ID\n",
    "# After this create \"Model\" folder to store model from pipeline and Pipeline_ymal to store pipeline config file \n",
    "\n",
    "#################2nd#####################################\n",
    "# Create second bucket to store raw-interactions data\n",
    "# BUCKET = \"test-raw-recipes-data\""
   ]
  },
  {
   "cell_type": "markdown",
   "id": "fa723323-4230-43a9-ae03-cbee90232317",
   "metadata": {
    "tags": []
   },
   "source": [
    "## Create Storage Bucket\n",
    "Check to see if bucket already exist and create if missing:"
   ]
  },
  {
   "cell_type": "code",
   "execution_count": 5,
   "id": "b9420fb5-b99d-49ef-9ab9-dd9ff4aec5e4",
   "metadata": {
    "tags": []
   },
   "outputs": [
    {
     "name": "stdout",
     "output_type": "stream",
     "text": [
      "Bucket already exist: brave-watch-414204\n"
     ]
    }
   ],
   "source": [
    "if not gcs.lookup_bucket(BUCKET):\n",
    "    bucketDef = gcs.bucket(BUCKET)\n",
    "    bucket = gcs.create_bucket(bucketDef, project=PROJECT_ID, location=REGION)\n",
    "    print(f'Created Bucket: {gcs.lookup_bucket(BUCKET).name}')\n",
    "else:\n",
    "    bucketDef = gcs.bucket(BUCKET)\n",
    "    print(f'Bucket already exist: {bucketDef.name}')"
   ]
  },
  {
   "cell_type": "code",
   "execution_count": null,
   "id": "b764e5d5-b77c-4d2f-875f-35a65fb455a2",
   "metadata": {},
   "outputs": [],
   "source": []
  }
 ],
 "metadata": {
  "kernelspec": {
   "display_name": "Python (Local)",
   "language": "python",
   "name": "base"
  },
  "language_info": {
   "codemirror_mode": {
    "name": "ipython",
    "version": 3
   },
   "file_extension": ".py",
   "mimetype": "text/x-python",
   "name": "python",
   "nbconvert_exporter": "python",
   "pygments_lexer": "ipython3",
   "version": "3.10.13"
  }
 },
 "nbformat": 4,
 "nbformat_minor": 5
}

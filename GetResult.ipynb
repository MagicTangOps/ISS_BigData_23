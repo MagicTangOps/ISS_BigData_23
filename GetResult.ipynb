{
 "cells": [
  {
   "cell_type": "markdown",
   "id": "f0d0ca25-a09f-485c-9955-ed2489c14dc9",
   "metadata": {},
   "source": [
    "### GetResult.py file finally\n",
    "\n",
    "Function1:Determine CF or CB\n",
    "\n",
    "Function2:get CB result(Embedding+BERD)\n",
    "\n",
    "Function3:load CF model & return result"
   ]
  },
  {
   "cell_type": "code",
   "execution_count": 2,
   "id": "988aa44a-cfff-4f7d-bf46-10f2a70eabaf",
   "metadata": {
    "tags": []
   },
   "outputs": [],
   "source": [
    "from google.cloud import bigquery\n",
    "from google.cloud import storage"
   ]
  },
  {
   "cell_type": "code",
   "execution_count": 3,
   "id": "1e518f29-156b-42d7-ab59-4e14ee6f42e2",
   "metadata": {
    "tags": []
   },
   "outputs": [],
   "source": [
    "# Function 1\n",
    "# Return 'CF' or 'CB' based on how many recipes did this user rate before\n",
    "# input parm: user_id -> which will be send by the end application\n",
    "def determine_rcs_model(user_id):\n",
    "    pass"
   ]
  },
  {
   "cell_type": "code",
   "execution_count": null,
   "id": "77aa5c4a-9f5b-4542-816b-7aaab916064e",
   "metadata": {},
   "outputs": [],
   "source": [
    "# Function 2\n",
    "# this part will be done by jh & th\n",
    "def get_CB_model():\n",
    "    pass"
   ]
  },
  {
   "cell_type": "code",
   "execution_count": null,
   "id": "37197002-1053-48cb-b4db-b193795d976f",
   "metadata": {},
   "outputs": [],
   "source": [
    "# Function 3\n",
    "# load the trained CF model from GCS Bucket -> the model is saved by the pipeline part\n",
    "def get_CF_model():\n",
    "    pass"
   ]
  },
  {
   "cell_type": "code",
   "execution_count": null,
   "id": "2113f55d-0b41-4c13-9eaf-740c091de1cd",
   "metadata": {},
   "outputs": [],
   "source": [
    "# Integrated Function\n",
    "# return the Final result\n",
    "def main(user_id):\n",
    "    flag = determine_rcs_model(user_id)\n",
    "    if flag == 'CB':\n",
    "        model = get_CB_model()\n",
    "    elif flag == 'CF':\n",
    "        model = get_CF_model()\n",
    "    \n",
    "    return None"
   ]
  },
  {
   "cell_type": "code",
   "execution_count": null,
   "id": "995fdec8-6c63-471a-af35-68389213edd0",
   "metadata": {},
   "outputs": [],
   "source": []
  },
  {
   "cell_type": "code",
   "execution_count": null,
   "id": "06c90cb4-45c8-44cf-8f17-710058150ff1",
   "metadata": {},
   "outputs": [],
   "source": []
  }
 ],
 "metadata": {
  "kernelspec": {
   "display_name": "Python (Local)",
   "language": "python",
   "name": "base"
  },
  "language_info": {
   "codemirror_mode": {
    "name": "ipython",
    "version": 3
   },
   "file_extension": ".py",
   "mimetype": "text/x-python",
   "name": "python",
   "nbconvert_exporter": "python",
   "pygments_lexer": "ipython3",
   "version": "3.10.13"
  }
 },
 "nbformat": 4,
 "nbformat_minor": 5
}

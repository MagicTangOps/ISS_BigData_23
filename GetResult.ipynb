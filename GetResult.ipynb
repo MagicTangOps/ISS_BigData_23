{
 "cells": [
  {
   "cell_type": "markdown",
   "id": "8fe265cd",
   "metadata": {},
   "source": [
    "### GetResult.py file finally\n",
    "\n",
    "Function1:Determine CF or CB\n",
    "\n",
    "Function2:get CB result(Embedding+BERD)\n",
    "\n",
    "Function3:load CF model & return result"
   ]
  },
  {
   "cell_type": "code",
   "execution_count": 1,
   "id": "422b4b6a",
   "metadata": {},
   "outputs": [
    {
     "name": "stdout",
     "output_type": "stream",
     "text": [
      "Collecting scikit-surprise\n",
      "  Using cached scikit_surprise-1.1.3-cp310-cp310-linux_x86_64.whl\n",
      "Requirement already satisfied: joblib>=1.0.0 in /opt/conda/lib/python3.10/site-packages (from scikit-surprise) (1.3.2)\n",
      "Requirement already satisfied: numpy>=1.17.3 in /opt/conda/lib/python3.10/site-packages (from scikit-surprise) (1.25.2)\n",
      "Requirement already satisfied: scipy>=1.3.2 in /opt/conda/lib/python3.10/site-packages (from scikit-surprise) (1.11.4)\n",
      "Installing collected packages: scikit-surprise\n",
      "Successfully installed scikit-surprise-1.1.3\n"
     ]
    }
   ],
   "source": [
    "!pip install scikit-surprise"
   ]
  },
  {
   "cell_type": "code",
   "execution_count": 2,
   "id": "efc5c88c",
   "metadata": {
    "tags": []
   },
   "outputs": [],
   "source": [
    "from google.cloud import bigquery\n",
    "from google.cloud import storage\n",
    "import pickle\n",
    "import pandas as pd\n",
    "import surprise"
   ]
  },
  {
   "cell_type": "code",
   "execution_count": 3,
   "id": "be0d0d52",
   "metadata": {
    "tags": []
   },
   "outputs": [],
   "source": [
    "def query_data(sql_query,user_id):\n",
    "    client = bigquery.Client(project='brave-watch-414204')\n",
    "    \n",
    "    # Define query parameters\n",
    "    query_params = [\n",
    "        bigquery.ScalarQueryParameter(\"user_id\", \"INT64\", int(user_id))\n",
    "    ]\n",
    "\n",
    "    # Execute the query job\n",
    "    job_config = bigquery.QueryJobConfig(query_parameters=query_params)\n",
    "    query_job = client.query(sql_query, job_config=job_config)\n",
    "\n",
    "    # Fetch the result\n",
    "    result = query_job.result()\n",
    "\n",
    "    return result"
   ]
  },
  {
   "cell_type": "code",
   "execution_count": 4,
   "id": "2fc801c0",
   "metadata": {
    "tags": []
   },
   "outputs": [],
   "source": [
    "# Function 1\n",
    "# Return 'CF' or 'CB' based on how many recipes did this user rate before\n",
    "# input parm: user_id -> which will be send by the end application\n",
    "def determine_rcs_model(user_id):\n",
    "    # Initialize BigQuery client\n",
    "    client = bigquery.Client(project='brave-watch-414204')\n",
    "\n",
    "    sql_query = \"\"\"\n",
    "    SELECT COUNT(DISTINCT recipe_id) AS num_occurrences\n",
    "    FROM `brave-watch-414204.RecipeQuery.interactions`\n",
    "    WHERE user_id = @user_id\n",
    "    \"\"\"\n",
    "    \n",
    "    # Define query parameters\n",
    "    query_params = [\n",
    "        bigquery.ScalarQueryParameter(\"user_id\", \"INT64\", int(user_id))\n",
    "    ]\n",
    "\n",
    "    # Execute the query job\n",
    "    job_config = bigquery.QueryJobConfig(query_parameters=query_params)\n",
    "    query_job = client.query(sql_query, job_config=job_config)\n",
    "\n",
    "    # Fetch the result\n",
    "    result = query_job.result()\n",
    "    num_occurrences = list(result)[0].num_occurrences\n",
    "\n",
    "    if num_occurrences > 115:\n",
    "        return 'CF'\n",
    "    else:\n",
    "        return 'CB'"
   ]
  },
  {
   "cell_type": "code",
   "execution_count": 5,
   "id": "c27868ff",
   "metadata": {},
   "outputs": [],
   "source": [
    "# Function 2\n",
    "# this part will be done by jh & th\n",
    "def get_CB_model():\n",
    "    return model"
   ]
  },
  {
   "cell_type": "code",
   "execution_count": 6,
   "id": "bafe1f17",
   "metadata": {},
   "outputs": [],
   "source": [
    "# Function 3\n",
    "# load the trained CF model from GCS Bucket -> the model is saved by the pipeline part\n",
    "def get_CF_model(bucket_name,blob_name):\n",
    "    \n",
    "    storage_client = storage.Client()\n",
    "\n",
    "    bucket = storage_client.bucket(bucket_name)\n",
    "    \n",
    "    blob = bucket.blob(blob_name)\n",
    "    \n",
    "    pickle_file = blob.download_as_bytes()\n",
    "\n",
    "    model = pickle.loads(pickle_file)\n",
    "    \n",
    "    return model"
   ]
  },
  {
   "cell_type": "code",
   "execution_count": 7,
   "id": "aacb8e5e",
   "metadata": {
    "tags": []
   },
   "outputs": [],
   "source": [
    "def process_CF_result(model,cust_user_id):\n",
    "    # get recipes list\n",
    "    sql_query_rated_recipe = \"\"\"\n",
    "        SELECT distinct recipe_id\n",
    "        FROM `brave-watch-414204.RecipeQuery.interactions`\n",
    "        WHERE user_id = @user_id\n",
    "    \"\"\"\n",
    "\n",
    "    sql_query_all_recipe = \"\"\"\n",
    "        SELECT distinct recipe_id\n",
    "        FROM `brave-watch-414204.RecipeQuery.interactions`\n",
    "    \"\"\"\n",
    "    rated_recipes_id_result = query_data(sql_query_rated_recipe,cust_user_id)\n",
    "    all_recipes_id_result = query_data(sql_query_all_recipe,cust_user_id)\n",
    "\n",
    "    rated_recipes_id = []\n",
    "    for row in rated_recipes_id_result:\n",
    "        rated_recipes_id.append(row[0])\n",
    "\n",
    "    all_recipes_id = []\n",
    "    for row in all_recipes_id_result:\n",
    "        all_recipes_id.append(row[0])\n",
    "\n",
    "    unrated_recipes_list = list(set(all_recipes_id) - set(rated_recipes_id))\n",
    "\n",
    "    predictions = []\n",
    "    for recipe_id in unrated_recipes_list:\n",
    "        prediction = model.predict(cust_user_id, recipe_id)\n",
    "        predictions.append({'recipe_id': recipe_id, 'predicted_rating': prediction.est})\n",
    "\n",
    "    predictions_df = pd.DataFrame(predictions)\n",
    "    # Sort recipes by predicted ratings in descending order\n",
    "    predictions_df = predictions_df.sort_values(by='predicted_rating', ascending=False)\n",
    "\n",
    "    # get the recipes name and description\n",
    "    sql_query_recipe_details = \"\"\"\n",
    "    SELECT  \n",
    "      distinct id,\n",
    "      name,\n",
    "      description\n",
    "    FROM `recipe-recommendation-2024.RecipeQuery.recipes` \n",
    "    \"\"\"\n",
    "\n",
    "    recipes_detail_result = query_data(sql_query_recipe_details,'0')\n",
    "    recipes_detail = recipes_detail_result.to_dataframe()\n",
    "\n",
    "    final_predictions_df = pd.merge(predictions_df,recipes_detail,left_on='recipe_id',right_on='id',how='left')\n",
    "\n",
    "    top5_rec = []\n",
    "    for value in final_predictions_df.head().values:\n",
    "        top5_rec.append({'id':value[0],'description':value[4],'name':value[3]})\n",
    "\n",
    "    final_result = {\"recipes\":top5_rec}\n",
    "    return final_result"
   ]
  },
  {
   "cell_type": "code",
   "execution_count": 8,
   "id": "78447508",
   "metadata": {},
   "outputs": [],
   "source": [
    "#This part will be done by jh&th\n",
    "def process_CB_results(model,cust_user_id):\n",
    "\n",
    "    #Get all recipe_id rates by user\n",
    "    sql_query_recipe_rated=\"\"\"\n",
    "        SELECT distinct recipe_id\n",
    "        FROM `recipe-recommendation-2024.RecipeQuery.interactions`\n",
    "        WHERE user_id = @user_id\n",
    "\"\"\"\n",
    "\n",
    "    #Embed user's all review\n",
    "    sql_query_embed_rated_recipe_review = \"\"\"\n",
    "with tmp as (\n",
    "    SELECT user_id,\n",
    "           STRING_AGG(review, ' ') AS aggregated_reviews\n",
    "    FROM `brave-watch-414204.RecipeQuery.interactions` \n",
    "    WHERE user_id = @user_id\n",
    ")\n",
    "\n",
    "SELECT *\n",
    "FROM\n",
    "ML.GENERATE_EMBEDDING(\n",
    "  MODEL `RecipeQuery.gecko_model`,\n",
    "  (SELECT aggregated_reviews as content, user_id as title FROM tmp),\n",
    "  STRUCT(TRUE AS flatten_json_output)\n",
    ")\n",
    "\"\"\"\n",
    "    #Get all recipe_id \n",
    "    sql_query_recipe_all=\"\"\"\n",
    "        SELECT distinct recipe_id\n",
    "        FROM `recipe-recommendation-2024.RecipeQuery.interactions`\n",
    "\"\"\"\n",
    "    #embed all recipes' description\n",
    "    sql_query_embed_all_recipe_description=\"\"\"\n",
    "    \n",
    "\"\"\" \n",
    "\n",
    "    sql_query_embed_rated_recipe_review = query_data(sql_query_embed_rated_recipe_review,cust_user_id)\n",
    "    sql_query_embed_all_recipe_description = query_data(sql_query_embed_all_recipe_description,cust_user_id)\n",
    "    \n",
    "    #list all the recipe_id user rated\n",
    "    rated_recipes_id = []\n",
    "    for row in sql_query_recipe_rated:\n",
    "        rated_recipes_id.append(row[0])\n",
    "\n",
    "    #list all the recipe_id\n",
    "    all_recipes_id = []\n",
    "    for row in sql_query_recipe_all:\n",
    "        all_recipes_id.append(row[0])\n",
    "    \n",
    "    #all recipes reduce those rated by users are the source we can use to predict\n",
    "    unrated_recipes_list = list(set(all_recipes_id) - set(rated_recipes_id))\n",
    "\n",
    "    predictions = []\n",
    "    for recipe_id in unrated_recipes_list:\n",
    "        prediction = model.predict(cust_user_id, recipe_id)\n",
    "        predictions.append({'recipe_id': recipe_id, 'predicted_rating': prediction.est})\n",
    "    \n",
    "    predictions_df = pd.DataFrame(predictions)\n",
    "    # Sort recipes by predicted ratings in descending order\n",
    "    predictions_df = predictions_df.sort_values(by='predicted_rating', ascending=False)\n",
    "\n",
    "    # get the recipes name and description\n",
    "    sql_query_recipe_details = \"\"\"\n",
    "    SELECT  \n",
    "      distinct id,\n",
    "      name,\n",
    "      description\n",
    "    FROM `recipe-recommendation-2024.RecipeQuery.recipes`\n",
    "    where id = \n",
    "    \"\"\"\n",
    "\n",
    "    recipes_detail_result = query_data(sql_query_recipe_details,'0')\n",
    "    recipes_detail = recipes_detail_result.to_dataframe()\n",
    "\n",
    "    final_predictions_df = pd.merge(predictions_df,recipes_detail,left_on='recipe_id',right_on='id',how='left')\n",
    "\n",
    "    top5_rec = []\n",
    "    for value in final_predictions_df.head().values:\n",
    "        top5_rec.append({'id':value[0],'description':value[4],'name':value[3]})\n",
    "\n",
    "    final_result = {\"recipes\":top5_rec}\n",
    "    return final_result\n",
    "\n"
   ]
  },
  {
   "cell_type": "code",
   "execution_count": 9,
   "id": "7d52e739",
   "metadata": {},
   "outputs": [],
   "source": [
    "# Integrated Function\n",
    "# return the Final result\n",
    "def main(cust_user_id):\n",
    "    flag = determine_rcs_model(cust_user_id)\n",
    "    if flag == 'CB':\n",
    "        model = get_CB_model()\n",
    "    elif flag == 'CF':\n",
    "        # get model\n",
    "        model = get_CF_model('brave-watch-414204','Model/knn_model.pkl')\n",
    "        final_result = process_CF_result(model,cust_user_id)\n",
    "        \n",
    "        return final_result\n",
    "    else:\n",
    "        raise ValueError(f\"Unknown flag value: {flag}\")\n",
    "    return None"
   ]
  },
  {
   "cell_type": "code",
   "execution_count": 10,
   "id": "6d662b27",
   "metadata": {
    "tags": []
   },
   "outputs": [
    {
     "ename": "NameError",
     "evalue": "name 'model' is not defined",
     "output_type": "error",
     "traceback": [
      "\u001b[0;31m---------------------------------------------------------------------------\u001b[0m",
      "\u001b[0;31mNameError\u001b[0m                                 Traceback (most recent call last)",
      "Cell \u001b[0;32mIn[10], line 1\u001b[0m\n\u001b[0;32m----> 1\u001b[0m CF \u001b[38;5;241m=\u001b[39m \u001b[43mmain\u001b[49m\u001b[43m(\u001b[49m\u001b[38;5;124;43m'\u001b[39;49m\u001b[38;5;124;43m527698\u001b[39;49m\u001b[38;5;124;43m'\u001b[39;49m\u001b[43m)\u001b[49m\n\u001b[1;32m      2\u001b[0m CF\n",
      "Cell \u001b[0;32mIn[9], line 6\u001b[0m, in \u001b[0;36mmain\u001b[0;34m(cust_user_id)\u001b[0m\n\u001b[1;32m      4\u001b[0m flag \u001b[38;5;241m=\u001b[39m determine_rcs_model(cust_user_id)\n\u001b[1;32m      5\u001b[0m \u001b[38;5;28;01mif\u001b[39;00m flag \u001b[38;5;241m==\u001b[39m \u001b[38;5;124m'\u001b[39m\u001b[38;5;124mCB\u001b[39m\u001b[38;5;124m'\u001b[39m:\n\u001b[0;32m----> 6\u001b[0m     model \u001b[38;5;241m=\u001b[39m \u001b[43mget_CB_model\u001b[49m\u001b[43m(\u001b[49m\u001b[43m)\u001b[49m\n\u001b[1;32m      7\u001b[0m \u001b[38;5;28;01melif\u001b[39;00m flag \u001b[38;5;241m==\u001b[39m \u001b[38;5;124m'\u001b[39m\u001b[38;5;124mCF\u001b[39m\u001b[38;5;124m'\u001b[39m:\n\u001b[1;32m      8\u001b[0m     \u001b[38;5;66;03m# get model\u001b[39;00m\n\u001b[1;32m      9\u001b[0m     model \u001b[38;5;241m=\u001b[39m get_CF_model(\u001b[38;5;124m'\u001b[39m\u001b[38;5;124mbrave-watch-414204\u001b[39m\u001b[38;5;124m'\u001b[39m,\u001b[38;5;124m'\u001b[39m\u001b[38;5;124mModel/knn_model.pkl\u001b[39m\u001b[38;5;124m'\u001b[39m)\n",
      "Cell \u001b[0;32mIn[5], line 4\u001b[0m, in \u001b[0;36mget_CB_model\u001b[0;34m()\u001b[0m\n\u001b[1;32m      3\u001b[0m \u001b[38;5;28;01mdef\u001b[39;00m \u001b[38;5;21mget_CB_model\u001b[39m():\n\u001b[0;32m----> 4\u001b[0m     \u001b[38;5;28;01mreturn\u001b[39;00m \u001b[43mmodel\u001b[49m\n",
      "\u001b[0;31mNameError\u001b[0m: name 'model' is not defined"
     ]
    }
   ],
   "source": [
    "CF = main('527698')\n",
    "CF"
   ]
  },
  {
   "cell_type": "code",
   "execution_count": null,
   "id": "38ca4cc6",
   "metadata": {},
   "outputs": [],
   "source": []
  }
 ],
 "metadata": {
  "kernelspec": {
   "display_name": "Python (Local)",
   "language": "python",
   "name": "base"
  },
  "language_info": {
   "codemirror_mode": {
    "name": "ipython",
    "version": 3
   },
   "file_extension": ".py",
   "mimetype": "text/x-python",
   "name": "python",
   "nbconvert_exporter": "python",
   "pygments_lexer": "ipython3",
   "version": "3.10.13"
  }
 },
 "nbformat": 4,
 "nbformat_minor": 5
}

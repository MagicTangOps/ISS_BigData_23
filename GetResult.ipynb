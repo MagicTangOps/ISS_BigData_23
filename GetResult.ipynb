{
 "cells": [
  {
   "cell_type": "markdown",
   "id": "f0d0ca25-a09f-485c-9955-ed2489c14dc9",
   "metadata": {},
   "source": [
    "### GetResult.py file finally\n",
    "\n",
    "Function1:Determine CF or CB\n",
    "\n",
    "Function2:get CB result(Embedding+BERD)\n",
    "\n",
    "Function3:load CF model & return result"
   ]
  },
  {
   "cell_type": "code",
   "execution_count": 1,
   "id": "e593af3f-c49c-4913-8ea4-6460535530db",
   "metadata": {},
   "outputs": [
    {
     "name": "stdout",
     "output_type": "stream",
     "text": [
      "Collecting scikit-surprise\n",
      "  Using cached scikit_surprise-1.1.3-cp310-cp310-linux_x86_64.whl\n",
      "Requirement already satisfied: joblib>=1.0.0 in /opt/conda/lib/python3.10/site-packages (from scikit-surprise) (1.3.2)\n",
      "Requirement already satisfied: numpy>=1.17.3 in /opt/conda/lib/python3.10/site-packages (from scikit-surprise) (1.25.2)\n",
      "Requirement already satisfied: scipy>=1.3.2 in /opt/conda/lib/python3.10/site-packages (from scikit-surprise) (1.11.4)\n",
      "Installing collected packages: scikit-surprise\n",
      "Successfully installed scikit-surprise-1.1.3\n"
     ]
    }
   ],
   "source": [
    "!pip install scikit-surprise"
   ]
  },
  {
   "cell_type": "code",
   "execution_count": 2,
   "id": "988aa44a-cfff-4f7d-bf46-10f2a70eabaf",
   "metadata": {
    "tags": []
   },
   "outputs": [],
   "source": [
    "from google.cloud import bigquery\n",
    "from google.cloud import storage\n",
    "import pickle\n",
    "import pandas as pd\n",
    "import surprise"
   ]
  },
  {
   "cell_type": "code",
   "execution_count": 3,
   "id": "c0e993ea-6b83-4ffa-ade2-d1be3e4402b8",
   "metadata": {
    "tags": []
   },
   "outputs": [],
   "source": [
    "def query_data(sql_query,user_id):\n",
<<<<<<< HEAD
    "    client = bigquery.Client(project='recipe-recommendation-2024')\n",
=======
    "    client = bigquery.Client(project='brave-watch-414204')\n",
>>>>>>> 99e217ab0a00465da41b10609b62e4f993b75286
    "    \n",
    "    # Define query parameters\n",
    "    query_params = [\n",
    "        bigquery.ScalarQueryParameter(\"user_id\", \"INT64\", int(user_id))\n",
    "    ]\n",
    "\n",
    "    # Execute the query job\n",
    "    job_config = bigquery.QueryJobConfig(query_parameters=query_params)\n",
    "    query_job = client.query(sql_query, job_config=job_config)\n",
    "\n",
    "    # Fetch the result\n",
    "    result = query_job.result()\n",
    "\n",
    "    return result"
   ]
  },
  {
   "cell_type": "code",
   "execution_count": 4,
   "id": "1e518f29-156b-42d7-ab59-4e14ee6f42e2",
   "metadata": {
    "tags": []
   },
   "outputs": [],
   "source": [
    "# Function 1\n",
    "# Return 'CF' or 'CB' based on how many recipes did this user rate before\n",
    "# input parm: user_id -> which will be send by the end application\n",
    "def determine_rcs_model(user_id):\n",
    "    # Initialize BigQuery client\n",
<<<<<<< HEAD
    "    client = bigquery.Client(project='recipe-recommendation-2024')\n",
    "\n",
    "    sql_query = \"\"\"\n",
    "    SELECT COUNT(DISTINCT recipe_id) AS num_occurrences\n",
    "    FROM `recipe-recommendation-2024.RecipeQuery.interactions`\n",
=======
    "    client = bigquery.Client(project='brave-watch-414204')\n",
    "\n",
    "    sql_query = \"\"\"\n",
    "    SELECT COUNT(DISTINCT recipe_id) AS num_occurrences\n",
    "    FROM `brave-watch-414204.RecipeQuery.interactions`\n",
>>>>>>> 99e217ab0a00465da41b10609b62e4f993b75286
    "    WHERE user_id = @user_id\n",
    "    \"\"\"\n",
    "    \n",
    "    # Define query parameters\n",
    "    query_params = [\n",
    "        bigquery.ScalarQueryParameter(\"user_id\", \"INT64\", int(user_id))\n",
    "    ]\n",
    "\n",
    "    # Execute the query job\n",
    "    job_config = bigquery.QueryJobConfig(query_parameters=query_params)\n",
    "    query_job = client.query(sql_query, job_config=job_config)\n",
    "\n",
    "    # Fetch the result\n",
    "    result = query_job.result()\n",
    "    num_occurrences = list(result)[0].num_occurrences\n",
    "\n",
    "    if num_occurrences > 5:\n",
    "        return 'CF'\n",
    "    else:\n",
    "        return 'CB'"
   ]
  },
  {
   "cell_type": "code",
   "execution_count": 5,
<<<<<<< HEAD
   "id": "77aa5c4a-9f5b-4542-816b-7aaab916064e",
   "metadata": {},
   "outputs": [],
   "source": [
    "# Function 2\n",
    "# this part will be done by jh & th\n",
    "def get_CB_model():\n",
    "    pass"
   ]
  },
  {
   "cell_type": "code",
   "execution_count": 6,
=======
>>>>>>> 99e217ab0a00465da41b10609b62e4f993b75286
   "id": "37197002-1053-48cb-b4db-b193795d976f",
   "metadata": {},
   "outputs": [],
   "source": [
    "# Function 3\n",
    "# load the trained CF model from GCS Bucket -> the model is saved by the pipeline part\n",
    "def get_CF_model(bucket_name,blob_name):\n",
    "    \n",
    "    storage_client = storage.Client()\n",
    "\n",
    "    bucket = storage_client.bucket(bucket_name)\n",
    "    \n",
    "    blob = bucket.blob(blob_name)\n",
    "    \n",
    "    pickle_file = blob.download_as_bytes()\n",
    "\n",
    "    model = pickle.loads(pickle_file)\n",
    "    \n",
    "    return model"
   ]
  },
  {
   "cell_type": "code",
<<<<<<< HEAD
   "execution_count": 7,
=======
   "execution_count": 6,
>>>>>>> 99e217ab0a00465da41b10609b62e4f993b75286
   "id": "f442b142-4e38-47e9-867d-526ed4681c39",
   "metadata": {
    "tags": []
   },
   "outputs": [],
   "source": [
    "def process_CF_result(model,cust_user_id):\n",
    "    # get recipes list\n",
    "    sql_query_rated_recipe = \"\"\"\n",
    "        SELECT distinct recipe_id\n",
<<<<<<< HEAD
    "        FROM `recipe-recommendation-2024.RecipeQuery.interactions`\n",
=======
    "        FROM `brave-watch-414204.RecipeQuery.interactions`\n",
>>>>>>> 99e217ab0a00465da41b10609b62e4f993b75286
    "        WHERE user_id = @user_id\n",
    "    \"\"\"\n",
    "\n",
    "    sql_query_all_recipe = \"\"\"\n",
    "        SELECT distinct recipe_id\n",
<<<<<<< HEAD
    "        FROM `recipe-recommendation-2024.RecipeQuery.interactions`\n",
=======
    "        FROM `brave-watch-414204.RecipeQuery.interactions`\n",
>>>>>>> 99e217ab0a00465da41b10609b62e4f993b75286
    "    \"\"\"\n",
    "    rated_recipes_id_result = query_data(sql_query_rated_recipe,cust_user_id)\n",
    "    all_recipes_id_result = query_data(sql_query_all_recipe,cust_user_id)\n",
    "\n",
    "    rated_recipes_id = []\n",
    "    for row in rated_recipes_id_result:\n",
    "        rated_recipes_id.append(row[0])\n",
    "\n",
    "    all_recipes_id = []\n",
    "    for row in all_recipes_id_result:\n",
    "        all_recipes_id.append(row[0])\n",
    "\n",
    "    unrated_recipes_list = list(set(all_recipes_id) - set(rated_recipes_id))\n",
    "\n",
    "    predictions = []\n",
    "    for recipe_id in unrated_recipes_list:\n",
    "        prediction = model.predict(cust_user_id, recipe_id)\n",
    "        predictions.append({'recipe_id': recipe_id, 'predicted_rating': prediction.est})\n",
    "\n",
    "    predictions_df = pd.DataFrame(predictions)\n",
    "    # Sort recipes by predicted ratings in descending order\n",
    "    predictions_df = predictions_df.sort_values(by='predicted_rating', ascending=False)\n",
    "\n",
    "    # get the recipes name and description\n",
    "    sql_query_recipe_details = \"\"\"\n",
    "    SELECT  \n",
    "      distinct id,\n",
    "      name,\n",
    "      description\n",
<<<<<<< HEAD
    "    FROM `recipe-recommendation-2024.RecipeQuery.recipes` \n",
=======
    "    FROM `brave-watch-414204.RecipeQuery.recipes` \n",
>>>>>>> 99e217ab0a00465da41b10609b62e4f993b75286
    "    \"\"\"\n",
    "\n",
    "    recipes_detail_result = query_data(sql_query_recipe_details,'0')\n",
    "    recipes_detail = recipes_detail_result.to_dataframe()\n",
    "\n",
    "    final_predictions_df = pd.merge(predictions_df,recipes_detail,left_on='recipe_id',right_on='id',how='left')\n",
    "\n",
    "    top5_rec = []\n",
    "    for value in final_predictions_df.head().values:\n",
    "        top5_rec.append({'id':value[0],'description':value[4],'name':value[3]})\n",
    "\n",
    "    final_result = {\"recipes\":top5_rec}\n",
    "    return final_result"
   ]
  },
  {
   "cell_type": "code",
<<<<<<< HEAD
   "execution_count": 24,
=======
   "execution_count": 7,
   "id": "e37a7c82",
   "metadata": {},
   "outputs": [],
   "source": [
    "#This part will be done by jh&th\n",
    "def process_CB_results(cust_user_id):\n",
    "\n",
    "    sql_result_processed_by_CB = \"\"\"\n",
    "        with tmp as (\n",
    "            SELECT user_id,STRING_AGG(review, ' ') AS aggregated_reviews\n",
    "            FROM `brave-watch-414204.RecipeQuery.interactions` \n",
    "            WHERE user_id = @user_id)\n",
    "        ,\n",
    "        \n",
    "        review_embedding as (\n",
    "            SELECT ml_generate_embedding_result,content AS query\n",
    "            FROM\n",
    "            ML.GENERATE_EMBEDDING(\n",
    "                MODEL `RecipeQuery.gecko_model`,\n",
    "                (SELECT aggregated_reviews as content, user_id as title FROM tmp),\n",
    "                STRUCT(TRUE AS flatten_json_output)\n",
    "                )\n",
    "            )\n",
    "        ,\n",
    "        user_rated_recipe_id as(\n",
    "            SELECT distinct recipe_id\n",
    "            FROM `recipe-recommendation-2024.RecipeQuery.interactions`\n",
    "            WHERE user_id = @user_id\n",
    "        )\n",
    "        ,\n",
    "        recipe_similar_to_review_top_10 as (\n",
    "        SELECT query.query,base.content,distance, base.title\n",
    "        FROM VECTOR_SEARCH(\n",
    "            TABLE `VectorDB.AfterEmbedding_768`, 'ml_generate_embedding_result',\n",
    "            (\n",
    "                SELECT * from review_embedding\n",
    "                ),\n",
    "                top_k => 10, options => '{\"fraction_lists_to_search\": 0.01}')\n",
    "        )\n",
    "        ,\n",
    "        recipe_similar_to_review_top_5_exclude_rated_recipe as (\n",
    "        select \n",
    "        base.title as recipe_id\n",
    "        where base.title not in (select * from user_rated_recipe_id)\n",
    "        limit 5\n",
    "        )\n",
    "\n",
    "        SELECT  \n",
    "        id,\n",
    "        name,\n",
    "        description\n",
    "        FROM `recipe-recommendation-2024.RecipeQuery.recipes` \n",
    "        where id in (select * from recipe_similar_to_review_top_5_exclude_rated_recipe)\n",
    "\"\"\"\n",
    "\n",
    "    query_job= query_data(sql_result_processed_by_CB,cust_user_id)\n",
    "\n",
    "    results = query_job.result()\n",
    "\n",
    "    final_result = results.to_dataframe()\n",
    "\n",
    "    \n",
    "    return final_result\n",
    "\n"
   ]
  },
  {
   "cell_type": "code",
   "execution_count": 8,
>>>>>>> 99e217ab0a00465da41b10609b62e4f993b75286
   "id": "2113f55d-0b41-4c13-9eaf-740c091de1cd",
   "metadata": {},
   "outputs": [],
   "source": [
    "# Integrated Function\n",
    "# return the Final result\n",
    "def main(cust_user_id):\n",
    "    flag = determine_rcs_model(cust_user_id)\n",
    "    if flag == 'CB':\n",
<<<<<<< HEAD
    "        model = get_CB_model()\n",
    "    elif flag == 'CF':\n",
    "        # get model\n",
    "        model = get_CF_model('recipe-recommendation-2024','model_rcs/knn_model.pkl')\n",
=======
    "        final_result = process_CB_results(cust_user_id)\n",
    "    elif flag == 'CF':\n",
    "        # get model\n",
    "        model = get_CF_model('brave-watch-414204','Model/svd_model.pkl')\n",
>>>>>>> 99e217ab0a00465da41b10609b62e4f993b75286
    "        final_result = process_CF_result(model,cust_user_id)\n",
    "        \n",
    "        return final_result\n",
    "    else:\n",
    "        raise ValueError(f\"Unknown flag value: {flag}\")\n",
    "    return None"
   ]
  },
  {
   "cell_type": "code",
<<<<<<< HEAD
   "execution_count": 27,
=======
   "execution_count": 9,
>>>>>>> 99e217ab0a00465da41b10609b62e4f993b75286
   "id": "75c3e944-5f90-4f9d-84e7-cfbb5dee5b71",
   "metadata": {
    "tags": []
   },
<<<<<<< HEAD
   "outputs": [],
   "source": [
    "CF = main('104817')\n",
    "CF"
   ]
  },
  {
   "cell_type": "code",
   "execution_count": 28,
   "id": "bb560932-9974-4596-ba8d-db79be2e1eb0",
   "metadata": {
    "tags": []
   },
   "outputs": [
    {
     "data": {
      "text/plain": [
       "{'recipes': [{'id': 524236,\n",
       "   'description': '© 2014 turner broadcasting system, inc. all rights reserved.\\n\\nthis paleo-friendly chili incorporates lean ground pork, green bell peppers, onions, spinach and tomatillos. the green vegetables provide a healthy dose of vitamin c. often used in salsas, tomatillos taste like herbed lemons. charring the bell peppers, onions and tomatillos imparts a wonderful smokiness to the chili.',\n",
       "   'name': 'paleo pork chili verde'},\n",
       "  {'id': 524289,\n",
       "   'description': 'this is one of my favorite recipes to show off to friends. stuffed with leeks and bacon with an apple dijon mustard glaze. it is a very moist and tasty pork chop. i like to serve it with roasted red potatoes with fresh rosemary and sea salt, and sauteed fresh green beans.',\n",
       "   'name': 'apple glazed stuffed pork chops'},\n",
       "  {'id': 524301,\n",
       "   'description': 'another variation of a taco soup. this was made with what i had on hand. it turned out very delicious and everyone liked it. i have the taco seasoning in bulk. i also use frozen corn and not the canned',\n",
       "   'name': 'bob s taco soup with pasta'},\n",
       "  {'id': 524315,\n",
       "   'description': 'healthy way to get your fix instead of deep fried chicken',\n",
       "   'name': 'crispy chicken thighs in convection oven'},\n",
       "  {'id': 38,\n",
       "   'description': 'this is yummy and low-fat, it always turns out perfect.',\n",
       "   'name': 'low fat berry blue frozen dessert'}]}"
      ]
     },
     "execution_count": 28,
     "metadata": {},
     "output_type": "execute_result"
    }
   ],
   "source": [
    "CF = main('424680')\n",
    "CF"
   ]
  },
  {
   "cell_type": "code",
   "execution_count": 29,
   "id": "e083d0b7-bdf8-4484-a274-a6380d417d05",
   "metadata": {},
=======
>>>>>>> 99e217ab0a00465da41b10609b62e4f993b75286
   "outputs": [
    {
     "data": {
      "text/plain": [
<<<<<<< HEAD
       "{'recipes': [{'id': 523436,\n",
       "   'description': 'a classic italian-american dish that can be as simple or fancy as you want it to be.',\n",
       "   'name': 'mamas best ever spaghetti   meatballs'},\n",
       "  {'id': 523450,\n",
       "   'description': \"found this on facebook and thought i'd give it a try.\",\n",
       "   'name': 'shrimp and crab meat with rice'},\n",
       "  {'id': 523453,\n",
       "   'description': 'use more or fewer hamburger buns if you want smaller/larger patties.',\n",
       "   'name': 'joe holland s hamburgers'},\n",
       "  {'id': 523456,\n",
       "   'description': \"“try cutting the cauliflower into thin slices and pan-frying after dusting with spices,” says tom filippou, executive chef for president's choice cooking school. “you can serve this recipe as a first course garnished with a dollop of yogurt or as a main with chickpea salad and flatbread.”\",\n",
       "   'name': 'harissa cauliflower steaks'},\n",
       "  {'id': 523463,\n",
       "   'description': \"this is my version of applebee's oriental chicken salad....wonderful flavors of sweet sesame and honey. this one will be a family favorite for sure!\",\n",
       "   'name': 'oriental chicken salad with honey sesame dressing'}]}"
      ]
     },
     "execution_count": 29,
=======
       "{'recipes': [{'id': 486261,\n",
       "   'description': 'ready, set, cook! reynolds wrap contest entry. this recipe combines traditional mexican flavors and creates a fun \"stack up\" meal.  it uses reynolds wrap aluminum foil to steam off the skin of the poblano pepper, as well as tent the dish while baking.  this can be served as a main dish casserole or a yummy appetizer if sliced into small pieces.....great football food.  six servings as a main dish casserole or 12-15 appetizer sizes. if you like things hotter, add some diced jalapenos and garnish with jalapenos as well. enjoy!',\n",
       "   'name': 'mexican stack up  rsc'},\n",
       "  {'id': 487669,\n",
       "   'description': '\"ready, set, cook! reynolds wrap contest entry\"  these easy to prepare, rosemary-sage rubbed ribs are grilled to \"fall off the bone\" tasty with the help of reynolds wrap foil.  paired with a spicy peach barbecue sauce, these ribs are smokin\\'!',\n",
       "   'name': 'just peachy grillin  ribs  rsc'},\n",
       "  {'id': 495202,\n",
       "   'description': 'ready, set, cook! hidden valley contest entry.  this recipe is a perfect blend of \"comfort tastes\" paired with just the right bit of crunchiness. the hidden valley ranch salad dressing & seasoning mix provides an accent in three separate layers of the dish. you\\'ll find that the flavors blend very well, hearty enough for the hungry appetite and appealing to children as well. using only one mixing bowl, one skillet, and one casserole dish makes for easy preparation and clean up is a snap! crunchy valley chicken stores well and makes excellent left overs, too.',\n",
       "   'name': 'crunchy valley chicken  rsc'},\n",
       "  {'id': 515167,\n",
       "   'description': 'official contest entry: simply potatoes 5fix.  this recipe for potato salad will have your taste buds begging for seconds and thirds! it is fast and simple to make. although fast and simple to make, it will definitely satisfy your appetite! this dish is perfect for lunch, dinner. side dish, or a small dish for eating in between meals!',\n",
       "   'name': 'simply irresistible tropical potato salad  sp5'},\n",
       "  {'id': 33995,\n",
       "   'description': 'incredibly yummy vegan truffles.',\n",
       "   'name': 'vegan truffles'}]}"
      ]
     },
     "execution_count": 9,
>>>>>>> 99e217ab0a00465da41b10609b62e4f993b75286
     "metadata": {},
     "output_type": "execute_result"
    }
   ],
   "source": [
<<<<<<< HEAD
    "CF = main('389431')\n",
=======
    "CF = main('8937')\n",
>>>>>>> 99e217ab0a00465da41b10609b62e4f993b75286
    "CF"
   ]
  },
  {
   "cell_type": "code",
   "execution_count": null,
<<<<<<< HEAD
   "id": "da0acaad-b9c7-44bd-8c35-4d33d22a305c",
=======
   "id": "1628618c-8d04-4a29-b694-6497e33c969c",
>>>>>>> 99e217ab0a00465da41b10609b62e4f993b75286
   "metadata": {},
   "outputs": [],
   "source": []
  }
 ],
 "metadata": {
  "kernelspec": {
   "display_name": "Python (Local)",
   "language": "python",
   "name": "base"
  },
  "language_info": {
   "codemirror_mode": {
    "name": "ipython",
    "version": 3
   },
   "file_extension": ".py",
   "mimetype": "text/x-python",
   "name": "python",
   "nbconvert_exporter": "python",
   "pygments_lexer": "ipython3",
   "version": "3.10.13"
  }
 },
 "nbformat": 4,
 "nbformat_minor": 5
}

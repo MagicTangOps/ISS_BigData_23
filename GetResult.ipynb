{
 "cells": [
  {
   "cell_type": "markdown",
   "id": "f0d0ca25-a09f-485c-9955-ed2489c14dc9",
   "metadata": {},
   "source": [
    "### GetResult.py file finally\n",
    "\n",
    "Function1:Determine CF or CB\n",
    "\n",
    "Function2:get CB result(Embedding+BERD)\n",
    "\n",
    "Function3:load CF model & return result"
   ]
  },
  {
   "cell_type": "code",
   "execution_count": 1,
   "id": "e593af3f-c49c-4913-8ea4-6460535530db",
   "metadata": {},
   "outputs": [
    {
     "name": "stdout",
     "output_type": "stream",
     "text": [
      "Collecting scikit-surprise\n",
      "  Using cached scikit_surprise-1.1.3-cp310-cp310-linux_x86_64.whl\n",
      "Requirement already satisfied: joblib>=1.0.0 in /opt/conda/lib/python3.10/site-packages (from scikit-surprise) (1.3.2)\n",
      "Requirement already satisfied: numpy>=1.17.3 in /opt/conda/lib/python3.10/site-packages (from scikit-surprise) (1.25.2)\n",
      "Requirement already satisfied: scipy>=1.3.2 in /opt/conda/lib/python3.10/site-packages (from scikit-surprise) (1.11.4)\n",
      "Installing collected packages: scikit-surprise\n",
      "Successfully installed scikit-surprise-1.1.3\n"
     ]
    }
   ],
   "source": [
    "!pip install scikit-surprise"
   ]
  },
  {
   "cell_type": "code",
   "execution_count": 2,
   "id": "988aa44a-cfff-4f7d-bf46-10f2a70eabaf",
   "metadata": {
    "tags": []
   },
   "outputs": [],
   "source": [
    "from google.cloud import bigquery\n",
    "from google.cloud import storage\n",
    "import pickle\n",
    "import pandas as pd\n",
    "import surprise"
   ]
  },
  {
   "cell_type": "code",
   "execution_count": 3,
   "id": "c0e993ea-6b83-4ffa-ade2-d1be3e4402b8",
   "metadata": {
    "tags": []
   },
   "outputs": [],
   "source": [
    "def query_data(sql_query,user_id):\n",
    "    client = bigquery.Client(project='brave-watch-414204')\n",
    "    \n",
    "    # Define query parameters\n",
    "    query_params = [\n",
    "        bigquery.ScalarQueryParameter(\"user_id\", \"INT64\", int(user_id))\n",
    "    ]\n",
    "\n",
    "    # Execute the query job\n",
    "    job_config = bigquery.QueryJobConfig(query_parameters=query_params)\n",
    "    query_job = client.query(sql_query, job_config=job_config)\n",
    "\n",
    "    # Fetch the result\n",
    "    result = query_job.result()\n",
    "\n",
    "    return result"
   ]
  },
  {
   "cell_type": "code",
   "execution_count": 4,
   "id": "1e518f29-156b-42d7-ab59-4e14ee6f42e2",
   "metadata": {
    "tags": []
   },
   "outputs": [],
   "source": [
    "# Function 1\n",
    "# Return 'CF' or 'CB' based on how many recipes did this user rate before\n",
    "# input parm: user_id -> which will be send by the end application\n",
    "def determine_rcs_model(user_id):\n",
    "    # Initialize BigQuery client\n",
    "    client = bigquery.Client(project='brave-watch-414204')\n",
    "\n",
    "    sql_query = \"\"\"\n",
    "    SELECT COUNT(DISTINCT recipe_id) AS num_occurrences\n",
    "    FROM `brave-watch-414204.RecipeQuery.interactions`\n",
    "    WHERE user_id = @user_id\n",
    "    \"\"\"\n",
    "    \n",
    "    # Define query parameters\n",
    "    query_params = [\n",
    "        bigquery.ScalarQueryParameter(\"user_id\", \"INT64\", int(user_id))\n",
    "    ]\n",
    "\n",
    "    # Execute the query job\n",
    "    job_config = bigquery.QueryJobConfig(query_parameters=query_params)\n",
    "    query_job = client.query(sql_query, job_config=job_config)\n",
    "\n",
    "    # Fetch the result\n",
    "    result = query_job.result()\n",
    "    num_occurrences = list(result)[0].num_occurrences\n",
    "\n",
    "    if num_occurrences > 5:\n",
    "        return 'CF'\n",
    "    else:\n",
    "        return 'CB'"
   ]
  },
  {
   "cell_type": "code",
   "execution_count": 5,
   "id": "37197002-1053-48cb-b4db-b193795d976f",
   "metadata": {},
   "outputs": [],
   "source": [
    "# Function 3\n",
    "# load the trained CF model from GCS Bucket -> the model is saved by the pipeline part\n",
    "def get_CF_model(bucket_name,blob_name):\n",
    "    \n",
    "    storage_client = storage.Client()\n",
    "\n",
    "    bucket = storage_client.bucket(bucket_name)\n",
    "    \n",
    "    blob = bucket.blob(blob_name)\n",
    "    \n",
    "    pickle_file = blob.download_as_bytes()\n",
    "\n",
    "    model = pickle.loads(pickle_file)\n",
    "    \n",
    "    return model"
   ]
  },
  {
   "cell_type": "code",
   "execution_count": 6,
   "id": "f442b142-4e38-47e9-867d-526ed4681c39",
   "metadata": {
    "tags": []
   },
   "outputs": [],
   "source": [
    "def process_CF_result(model,cust_user_id):\n",
    "    # get recipes list\n",
    "    sql_query_rated_recipe = \"\"\"\n",
    "        SELECT distinct recipe_id\n",
    "        FROM `brave-watch-414204.RecipeQuery.interactions`\n",
    "        WHERE user_id = @user_id\n",
    "    \"\"\"\n",
    "\n",
    "    sql_query_all_recipe = \"\"\"\n",
    "        SELECT distinct recipe_id\n",
    "        FROM `brave-watch-414204.RecipeQuery.interactions`\n",
    "    \"\"\"\n",
    "    rated_recipes_id_result = query_data(sql_query_rated_recipe,cust_user_id)\n",
    "    all_recipes_id_result = query_data(sql_query_all_recipe,cust_user_id)\n",
    "\n",
    "    rated_recipes_id = []\n",
    "    for row in rated_recipes_id_result:\n",
    "        rated_recipes_id.append(row[0])\n",
    "\n",
    "    all_recipes_id = []\n",
    "    for row in all_recipes_id_result:\n",
    "        all_recipes_id.append(row[0])\n",
    "\n",
    "    unrated_recipes_list = list(set(all_recipes_id) - set(rated_recipes_id))\n",
    "\n",
    "    predictions = []\n",
    "    for recipe_id in unrated_recipes_list:\n",
    "        prediction = model.predict(cust_user_id, recipe_id)\n",
    "        predictions.append({'recipe_id': recipe_id, 'predicted_rating': prediction.est})\n",
    "\n",
    "    predictions_df = pd.DataFrame(predictions)\n",
    "    # Sort recipes by predicted ratings in descending order\n",
    "    predictions_df = predictions_df.sort_values(by='predicted_rating', ascending=False)\n",
    "\n",
    "    # get the recipes name and description\n",
    "    sql_query_recipe_details = \"\"\"\n",
    "    SELECT  \n",
    "      distinct id,\n",
    "      name,\n",
    "      description\n",
    "    FROM `brave-watch-414204.RecipeQuery.recipes` \n",
    "    \"\"\"\n",
    "\n",
    "    recipes_detail_result = query_data(sql_query_recipe_details,'0')\n",
    "    recipes_detail = recipes_detail_result.to_dataframe()\n",
    "\n",
    "    final_predictions_df = pd.merge(predictions_df,recipes_detail,left_on='recipe_id',right_on='id',how='left')\n",
    "\n",
    "    top5_rec = []\n",
    "    for value in final_predictions_df.head().values:\n",
    "        top5_rec.append({'id':value[0],'description':value[4],'name':value[3]})\n",
    "\n",
    "    final_result = {\"recipes\":top5_rec}\n",
    "    return final_result"
   ]
  },
  {
   "cell_type": "code",
   "execution_count": 7,
   "id": "79827456",
   "metadata": {},
   "outputs": [],
   "source": [
    "def query_CB_data(sql_query,cust_user_id):\n",
    "    client = bigquery.Client(project='brave-watch-414204')\n",
    "    \n",
    "    # Define query parameters\n",
    "    query_params = [\n",
    "        bigquery.ScalarQueryParameter(\"cust_user_id\", \"INT64\", int(cust_user_id))\n",
    "    ]\n",
    "\n",
    "    # Execute the query job\n",
    "    job_config = bigquery.QueryJobConfig(query_parameters=query_params)\n",
    "    query_job = client.query(sql_query, job_config=job_config)\n",
    "\n",
    "    # Fetch the result\n",
    "    result = query_job.result()\n",
    "\n",
    "    return result"
   ]
  },
  {
   "cell_type": "code",
   "execution_count": 8,
   "id": "e37a7c82",
   "metadata": {},
   "outputs": [],
   "source": [
    "#This part will be done by jh&th\n",
    "def process_CB_results(cust_user_id):\n",
    "\n",
    "    sql_result_processed_by_CB = \"\"\"\n",
    "        with tmp as (\n",
    "            SELECT user_id,STRING_AGG(review, ' ') AS aggregated_reviews\n",
    "            FROM `brave-watch-414204.RecipeQuery.interactions` \n",
    "            WHERE user_id = @cust_user_id\n",
    "            GROUP BY user_id\n",
    "            \n",
    "            )\n",
    "        ,\n",
    "        \n",
    "        review_embedding as (\n",
    "            SELECT ml_generate_embedding_result,content AS query\n",
    "            FROM\n",
    "            ML.GENERATE_EMBEDDING(\n",
    "                MODEL `RecipeQuery.gecko_model`,\n",
    "                (SELECT aggregated_reviews as content, user_id as title FROM tmp),\n",
    "                STRUCT(TRUE AS flatten_json_output)\n",
    "                )\n",
    "            )\n",
    "        ,\n",
    "        user_rated_recipe_id as(\n",
    "\n",
    "\n",
    "        \n",
    "            SELECT distinct recipe_id\n",
    "            FROM `brave-watch-414204.RecipeQuery.interactions`\n",
    "            WHERE user_id = @cust_user_id\n",
    "        )\n",
    "        ,\n",
    "        recipe_similar_to_review_top_10 as (\n",
    "        SELECT query.query,base.content,distance, base.title\n",
    "        FROM VECTOR_SEARCH(\n",
    "            TABLE `VectorDB.AfterEmbedding_768`, 'ml_generate_embedding_result',\n",
    "            (\n",
    "                SELECT * from review_embedding\n",
    "                ),\n",
    "                top_k => 10, options => '{\"fraction_lists_to_search\": 0.01}')\n",
    "        )\n",
    "        ,\n",
    "        recipe_similar_to_review_top_5_exclude_rated_recipe as (\n",
    "        select \n",
    "        title as recipe_id\n",
    "        from recipe_similar_to_review_top_10\n",
    "        where title not in (select * from user_rated_recipe_id)\n",
    "        limit 5\n",
    "        )\n",
    "\n",
    "        SELECT  \n",
    "        id,\n",
    "        name,\n",
    "        description\n",
    "        FROM `brave-watch-414204.RecipeQuery.recipes` \n",
    "        where id in (select * from recipe_similar_to_review_top_5_exclude_rated_recipe)\n",
    "\"\"\"\n",
    "\n",
    "    query_job= query_CB_data(sql_result_processed_by_CB,cust_user_id)\n",
    "\n",
    "    results_df = query_job.to_dataframe()\n",
    "\n",
    "    top5_rec = []\n",
    "    for value in results_df.head().values:\n",
    "        top5_rec.append({'id':value[0],'description':value[2],'name':value[1]})\n",
    "\n",
    "    final_result = {\"recipes\":top5_rec}\n",
    "    \n",
    "    return final_result\n"
   ]
  },
  {
   "cell_type": "code",
   "execution_count": 9,
   "id": "2113f55d-0b41-4c13-9eaf-740c091de1cd",
   "metadata": {},
   "outputs": [],
   "source": [
    "# Integrated Function\n",
    "# return the Final result\n",
    "def main(cust_user_id):\n",
    "    flag = determine_rcs_model(cust_user_id)\n",
    "    if flag == 'CB':\n",
    "        final_result = process_CB_results(cust_user_id)\n",
    "        return final_result\n",
    "    elif flag == 'CF':\n",
    "        # get model\n",
    "        model = get_CF_model('brave-watch-414204','Model/svd_model.pkl')\n",
    "        final_result = process_CF_result(model,cust_user_id)\n",
    "        return final_result\n",
    "    else:\n",
    "        raise ValueError(f\"Unknown flag value: {flag}\")\n",
    "        return f\"Unknown flag value: {flag}\""
   ]
  },
  {
   "cell_type": "code",
   "execution_count": 10,
   "id": "75c3e944-5f90-4f9d-84e7-cfbb5dee5b71",
   "metadata": {
    "tags": []
   },
   "outputs": [],
   "source": [
    "CF = main('8937')\n",
    "CF"
   ]
  },
  {
   "cell_type": "code",
   "execution_count": 11,
   "id": "1628618c-8d04-4a29-b694-6497e33c969c",
   "metadata": {
    "tags": []
   },
   "outputs": [
    {
     "name": "stdout",
     "output_type": "stream",
     "text": [
      "{'recipes': [{'id': 20131, 'description': 'wonderful, versatile broccoli. change the cheese and spices as you wish, try basil and mozzarella, parmesan or asiago.', 'name': 'greek broccoli and tomatoes'}, {'id': 429858, 'description': 'this recipe is from the cookbook, \"the encyclopedia of creative cooking\"\\r\\npublished by weathervane books in 1980.  edited by charlotte turgeon.\\r\\n\\r\\nthis is one of those huge cookbooks, with 2000 recipes and 800 photos.\\r\\n\\r\\nbecause i don\\'t really like vegetables very much, i stumbled upon this recipe while looking for a use for tomatoes, which i do like.\\r\\n\\r\\ni love this, and have  been making it over and over.  \\r\\n\\r\\ni hope you try it and like it too.  btw, i use panko for the breadcrumbs.', 'name': 'tomatoes rockefeller'}, {'id': 31754, 'description': 'fresh broccoli is one of my favorite vegetables. this is a great way to dress it up. tastes incredible.', 'name': 'broccoli and pasta'}, {'id': 115400, 'description': \"i threw this together for supper using some leftover fennel from the night before.  we had wrapped up a fennel bulb with a pat of butter in some tin foil and thrown it on the grill with whatever meat we were cooking that night.  that was a good side on it's own but this is the recipe i developed using the leftover half fennel bulb.  i suppose you could get the same results by sauteing chopped fennel in some butter until it's limp.  i think slices of boiled egg would be good in this recipe, too. as far as the cheese goes, the real thing would be best but i was trying to be semi-healthy so i used a combination of regular and light.\", 'name': 'tomato and fennel casserole'}, {'id': 340448, 'description': \"spread this on crusty bread or savoury biscuits, use it as a topping for tartlets or as a delicious spread in sandwiches.  used as a sandwich spread, i simply add something like a slice of roasted red pepper and baby spinach leaves. or slices of ham. i adapted this recipe from one i found online because i was not satisfied with the gourmet spreads i'd been buying. well they classified themselves as gourmet but they were, in fact, rather ordinary and also quite expensive! i love the fact that this recipe also has mushrooms in it - and a few other goodies!   the original recipe must have been a  birds eye recipe as it specified using birds eye frozen sliced onions. i've slightly increased the mushrooms and garlic as i generally do with recipes and i've added leeks as the combination of flavours from onions, leeks and garlic is just so delicious. and i've also added thyme.  vary the garlic - and any of the ingredients - to suit your taste preferences.  i've suggested adding more balsamic vinegar if your onion mixture seems too dry.  if like me, you are a bit inexact in the measurement of some of the ingredients -  oh, i may as well use all of that! - ;) this would obviously be the easiest way to correct this.  have fun playing with this recipe - and i hope that you enjoy it.  i keep meaning to add some chopped nuts, probably walnuts, and must try to remember to do so next time i make this.\", 'name': 'caramelised onion and mushroom spread'}]}\n"
     ]
    }
   ],
   "source": [
    "CB = main('713375')\n",
    "print(CB)"
   ]
  }
 ],
 "metadata": {
  "kernelspec": {
   "display_name": "Python (Local)",
   "language": "python",
   "name": "base"
  },
  "language_info": {
   "codemirror_mode": {
    "name": "ipython",
    "version": 3
   },
   "file_extension": ".py",
   "mimetype": "text/x-python",
   "name": "python",
   "nbconvert_exporter": "python",
   "pygments_lexer": "ipython3",
   "version": "3.10.13"
  }
 },
 "nbformat": 4,
 "nbformat_minor": 5
}

{
 "cells": [
  {
   "cell_type": "code",
   "execution_count": 1,
   "id": "bfbc86f2-ec5f-4258-afc1-563e6bb39489",
   "metadata": {},
   "outputs": [
    {
     "data": {
      "text/plain": [
       "'brave-watch-414204'"
      ]
     },
     "execution_count": 1,
     "metadata": {},
     "output_type": "execute_result"
    }
   ],
   "source": [
    "####### Test out the new push#########\n",
    "\n",
    "project = !gcloud config get-value project\n",
    "PROJECT_ID = project[0]\n",
    "PROJECT_ID"
   ]
  },
  {
   "cell_type": "code",
   "execution_count": 2,
   "id": "74784787-bad5-4513-bbf7-55cbc3d6ca5c",
   "metadata": {
    "tags": []
   },
   "outputs": [
    {
     "name": "stdout",
     "output_type": "stream",
     "text": [
      "Collecting scikit-surprise\n",
      "  Using cached scikit_surprise-1.1.3-cp310-cp310-linux_x86_64.whl\n",
      "Requirement already satisfied: joblib>=1.0.0 in /opt/conda/lib/python3.10/site-packages (from scikit-surprise) (1.3.2)\n",
      "Requirement already satisfied: numpy>=1.17.3 in /opt/conda/lib/python3.10/site-packages (from scikit-surprise) (1.25.2)\n",
      "Requirement already satisfied: scipy>=1.3.2 in /opt/conda/lib/python3.10/site-packages (from scikit-surprise) (1.11.4)\n",
      "Installing collected packages: scikit-surprise\n",
      "Successfully installed scikit-surprise-1.1.3\n"
     ]
    }
   ],
   "source": [
    "!pip install scikit-surprise\n",
    "import pickle\n",
    "import pandas as pd\n",
    "from google.cloud import storage"
   ]
  },
  {
   "cell_type": "markdown",
   "id": "42f0c495-93ee-4f7a-817d-3d74dbc50c54",
   "metadata": {},
   "source": [
    "#### Get Model from GCS"
   ]
  },
  {
   "cell_type": "code",
   "execution_count": 3,
   "id": "40d6262b-4afb-4684-b8a0-123cf727c2bf",
   "metadata": {},
   "outputs": [],
   "source": [
    "# Download the pickle file from GCS\n",
    "def load_pickle_from_gcs(bucket_name, source_blob_name):\n",
    "    \"\"\"Load a model from a GCS bucket.\"\"\"\n",
    "    storage_client = storage.Client()\n",
    "    bucket = storage_client.bucket(bucket_name)\n",
    "    blob = bucket.blob(source_blob_name)\n",
    "\n",
    "    # Download the pickle file content as bytes\n",
    "    pickle_content = blob.download_as_bytes()\n",
    "\n",
    "    # Deserialize the pickle content\n",
    "    model = pickle.loads(pickle_content)\n",
    "\n",
    "    return model"
   ]
  },
  {
   "cell_type": "code",
   "execution_count": 4,
   "id": "c98875bd-4b6d-4708-b8f5-2fc29b8803e4",
   "metadata": {},
   "outputs": [],
   "source": [
    "bucket_name = PROJECT_ID\n",
    "folder_path = \"Model\"\n",
    "file_name = \"svd_model.pkl\"\n",
    "\n",
    "source_blob_name = f'{folder_path}/{file_name}'\n",
    "\n",
    "cf_recommender = load_pickle_from_gcs(bucket_name, source_blob_name)"
   ]
  },
  {
   "cell_type": "code",
   "execution_count": 5,
   "id": "58c0cac6-9876-4d82-9c40-352741e25358",
   "metadata": {},
   "outputs": [],
   "source": [
    "raw_interactions = pd.read_csv(\"gs://brave-watch-414204/Raw_Data/RAW_interactions.csv\")\n",
    "interactions = raw_interactions.groupby('user_id').filter(lambda x: len(x) > 5) # for testing only"
   ]
  },
  {
   "cell_type": "code",
   "execution_count": 6,
   "id": "a98ab746-9c38-4664-a8cc-ea58ab64e11e",
   "metadata": {
    "tags": []
   },
   "outputs": [
    {
     "name": "stdout",
     "output_type": "stream",
     "text": [
      "Total no. of predictions: 209282\n",
      "Top 5 Recommendations:\n",
      "       recipe_id  predicted_rating\n",
      "13508      27210          5.495052\n",
      "52872      97496          5.366322\n",
      "33740      62874          5.269975\n",
      "25201      48012          5.250849\n",
      "7503       16842          5.229005\n"
     ]
    }
   ],
   "source": [
    "#set cust_user_id\n",
    "cust_user_id = 56680 #change this number to demonstrate for another user_id\n",
    "\n",
    "# Get the list of all recipe IDs\n",
    "recipe_ids = interactions['recipe_id'].unique()\n",
    "\n",
    "# Get the list of recipe IDs that cust_user_id has not rated\n",
    "rated_recipe_ids = interactions[interactions['user_id'] == cust_user_id]['recipe_id']\n",
    "unrated_recipe_ids = list(set(recipe_ids) - set(rated_recipe_ids))\n",
    "\n",
    "# Predict ratings for unrated recipes by user_id\n",
    "predictions = []\n",
    "for recipe_id in unrated_recipe_ids:\n",
    "    prediction = cf_recommender.predict(cust_user_id, recipe_id)\n",
    "    predictions.append({'recipe_id': recipe_id, 'predicted_rating': prediction.est})\n",
    "\n",
    "print (\"Total no. of predictions:\", len(predictions))\n",
    "\n",
    "# Convert predictions to DataFrame\n",
    "predictions_df = pd.DataFrame(predictions)\n",
    "\n",
    "# Sort recipes by predicted ratings in descending order\n",
    "topN_recommendations = predictions_df.sort_values(by='predicted_rating', ascending=False)\n",
    "\n",
    "# Print the top 5 recommendations\n",
    "print(\"Top 5 Recommendations:\")\n",
    "print(topN_recommendations.head(5))"
   ]
  },
  {
   "cell_type": "code",
   "execution_count": null,
   "id": "4d6ee0a2-c959-4bb4-abdb-8bcc231ef4df",
   "metadata": {},
   "outputs": [],
   "source": []
  }
 ],
 "metadata": {
  "environment": {
   "kernel": "conda-root-py",
   "name": "workbench-notebooks.m119",
   "type": "gcloud",
   "uri": "us-docker.pkg.dev/deeplearning-platform-release/gcr.io/workbench-notebooks:m119"
  },
  "kernelspec": {
   "display_name": "Python 3 (ipykernel) (Local)",
   "language": "python",
   "name": "conda-root-py"
  },
  "language_info": {
   "codemirror_mode": {
    "name": "ipython",
    "version": 3
   },
   "file_extension": ".py",
   "mimetype": "text/x-python",
   "name": "python",
   "nbconvert_exporter": "python",
   "pygments_lexer": "ipython3",
   "version": "3.10.14"
  }
 },
 "nbformat": 4,
 "nbformat_minor": 5
}
